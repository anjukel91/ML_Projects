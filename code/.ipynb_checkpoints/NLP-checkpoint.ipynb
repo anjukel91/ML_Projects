{
 "cells": [
  {
   "cell_type": "markdown",
   "id": "5c63d9a6-dc86-4196-9c0f-7c07d4420635",
   "metadata": {},
   "source": [
    "# NLP Preprocessing and Feature Extraction\n",
    "This notebook demonstrates text preprocessing steps:\n",
    "\n",
    "-Tokenization\n",
    "\n",
    "-Stopwords removal\n",
    "\n",
    "-Stemming\n",
    "\n",
    "-Lemmatization\n",
    "\n",
    "**We will use NLTK and spaCy libraries.**"
   ]
  },
  {
   "cell_type": "code",
   "execution_count": 1,
   "id": "89dce3ac-c285-4153-8933-1e9191d110cd",
   "metadata": {},
   "outputs": [
    {
     "name": "stdout",
     "output_type": "stream",
     "text": [
      "Requirement already satisfied: nltk in c:\\users\\anju\\anaconda3\\lib\\site-packages (3.9.1)\n",
      "Requirement already satisfied: click in c:\\users\\anju\\anaconda3\\lib\\site-packages (from nltk) (8.1.7)\n",
      "Requirement already satisfied: joblib in c:\\users\\anju\\anaconda3\\lib\\site-packages (from nltk) (1.4.2)\n",
      "Requirement already satisfied: regex>=2021.8.3 in c:\\users\\anju\\anaconda3\\lib\\site-packages (from nltk) (2024.9.11)\n",
      "Requirement already satisfied: tqdm in c:\\users\\anju\\anaconda3\\lib\\site-packages (from nltk) (4.66.5)\n",
      "Requirement already satisfied: colorama in c:\\users\\anju\\anaconda3\\lib\\site-packages (from click->nltk) (0.4.6)\n",
      "Collecting en-core-web-sm==3.8.0\n",
      "  Downloading https://github.com/explosion/spacy-models/releases/download/en_core_web_sm-3.8.0/en_core_web_sm-3.8.0-py3-none-any.whl (12.8 MB)\n",
      "     ---------------------------------------- 0.0/12.8 MB ? eta -:--:--\n",
      "     - -------------------------------------- 0.5/12.8 MB 8.5 MB/s eta 0:00:02\n",
      "     ---- ----------------------------------- 1.6/12.8 MB 6.0 MB/s eta 0:00:02\n",
      "     --------- ------------------------------ 3.1/12.8 MB 6.6 MB/s eta 0:00:02\n",
      "     ------------------ --------------------- 5.8/12.8 MB 8.8 MB/s eta 0:00:01\n",
      "     --------------------- ------------------ 6.8/12.8 MB 7.8 MB/s eta 0:00:01\n",
      "     -------------------------- ------------- 8.4/12.8 MB 7.8 MB/s eta 0:00:01\n",
      "     ------------------------------ --------- 9.7/12.8 MB 7.5 MB/s eta 0:00:01\n",
      "     ------------------------------------ --- 11.5/12.8 MB 7.8 MB/s eta 0:00:01\n",
      "     ---------------------------------------  12.6/12.8 MB 7.4 MB/s eta 0:00:01\n",
      "     ---------------------------------------- 12.8/12.8 MB 6.9 MB/s eta 0:00:00\n",
      "\u001b[38;5;2m[+] Download and installation successful\u001b[0m\n",
      "You can now load the package via spacy.load('en_core_web_sm')\n"
     ]
    }
   ],
   "source": [
    "!pip install nltk\n",
    "!python -m spacy download en_core_web_sm"
   ]
  },
  {
   "cell_type": "code",
   "execution_count": 7,
   "id": "642017c5-5947-4ecb-8dff-7a1bae00c771",
   "metadata": {},
   "outputs": [
    {
     "name": "stderr",
     "output_type": "stream",
     "text": [
      "[nltk_data] Downloading package punkt to\n",
      "[nltk_data]     C:\\Users\\Anju\\AppData\\Roaming\\nltk_data...\n",
      "[nltk_data]   Package punkt is already up-to-date!\n",
      "[nltk_data] Downloading package punkt_tab to\n",
      "[nltk_data]     C:\\Users\\Anju\\AppData\\Roaming\\nltk_data...\n",
      "[nltk_data]   Unzipping tokenizers\\punkt_tab.zip.\n",
      "[nltk_data] Downloading package stopwords to\n",
      "[nltk_data]     C:\\Users\\Anju\\AppData\\Roaming\\nltk_data...\n",
      "[nltk_data]   Package stopwords is already up-to-date!\n",
      "[nltk_data] Downloading package wordnet to\n",
      "[nltk_data]     C:\\Users\\Anju\\AppData\\Roaming\\nltk_data...\n",
      "[nltk_data]   Package wordnet is already up-to-date!\n"
     ]
    },
    {
     "data": {
      "text/plain": [
       "True"
      ]
     },
     "execution_count": 7,
     "metadata": {},
     "output_type": "execute_result"
    }
   ],
   "source": [
    "import nltk\n",
    "import spacy\n",
    "from nltk.tokenize import word_tokenize\n",
    "from nltk.corpus import stopwords\n",
    "from nltk.stem import PorterStemmer, WordNetLemmatizer\n",
    "\n",
    "\n",
    "# Download NLTK resources\n",
    "nltk.download('punkt')#Downloads the tokenizer model used by word_tokenize()\n",
    "nltk.download('punkt_tab')\n",
    "nltk.download('stopwords')#Downloads the list of stopwords (like the, is, in).\n",
    "nltk.download('wordnet')#Downloads the WordNet lexical database (needed for lemmatization).\n"
   ]
  },
  {
   "cell_type": "markdown",
   "id": "706565a7-96cd-491b-8983-5abb0e932364",
   "metadata": {},
   "source": [
    "### Sample Text"
   ]
  },
  {
   "cell_type": "code",
   "execution_count": 8,
   "id": "d261d959-58c3-4d07-b891-1cf32c5fe3a7",
   "metadata": {},
   "outputs": [
    {
     "name": "stdout",
     "output_type": "stream",
     "text": [
      "I am learning Natural Language Processing, NLP is fascinating and powerful!\n"
     ]
    }
   ],
   "source": [
    "text=\"I am learning Natural Language Processing, NLP is fascinating and powerful!\"\n",
    "print(text)"
   ]
  },
  {
   "cell_type": "markdown",
   "id": "019dfeab-c0cf-4c63-b169-fc986e76814e",
   "metadata": {},
   "source": [
    "# 1. Tokenization with NLTK"
   ]
  },
  {
   "cell_type": "code",
   "execution_count": 9,
   "id": "e4a9664d-8496-4798-a731-645a3d44e464",
   "metadata": {},
   "outputs": [
    {
     "name": "stdout",
     "output_type": "stream",
     "text": [
      "['I', 'am', 'learning', 'Natural', 'Language', 'Processing', ',', 'NLP', 'is', 'fascinating', 'and', 'powerful', '!']\n"
     ]
    }
   ],
   "source": [
    "tokens=word_tokenize(text)\n",
    "print(tokens)"
   ]
  },
  {
   "cell_type": "markdown",
   "id": "4c29abb3-6841-4cdb-95d1-4e94a0022fe3",
   "metadata": {},
   "source": [
    "## 2. Stopwords Removal with NLTK"
   ]
  },
  {
   "cell_type": "code",
   "execution_count": 11,
   "id": "ec0b7a4b-f77b-47cc-938b-dad071061f81",
   "metadata": {},
   "outputs": [
    {
     "name": "stdout",
     "output_type": "stream",
     "text": [
      "['learning', 'Natural', 'Language', 'Processing', ',', 'NLP', 'fascinating', 'powerful', '!']\n"
     ]
    }
   ],
   "source": [
    "stop_words=set(stopwords.words('English'))\n",
    "filtered_tokens=[w for w in tokens if w.lower() not in stop_words]\n",
    "print(filtered_tokens)"
   ]
  },
  {
   "cell_type": "markdown",
   "id": "834b9f79-ffc7-4d5e-ae0d-496863cd6757",
   "metadata": {},
   "source": [
    "## 3. Stemming with NLTK"
   ]
  },
  {
   "cell_type": "code",
   "execution_count": 12,
   "id": "f291f87b-82c7-4a0e-853f-fba11ebf1923",
   "metadata": {},
   "outputs": [
    {
     "name": "stdout",
     "output_type": "stream",
     "text": [
      "['learn', 'natur', 'languag', 'process', ',', 'nlp', 'fascin', 'power', '!']\n"
     ]
    }
   ],
   "source": [
    "stemmer=PorterStemmer()\n",
    "stem=[stemmer.stem(word) for word in filtered_tokens]\n",
    "print(stem)"
   ]
  },
  {
   "cell_type": "markdown",
   "id": "2d1bc4e6-9cae-48ff-aaa4-67d5eff162f9",
   "metadata": {},
   "source": [
    "## 4. Lemmatization with NLTK"
   ]
  },
  {
   "cell_type": "code",
   "execution_count": 13,
   "id": "0cc70e31-c508-457c-9936-57c4ffabcb16",
   "metadata": {},
   "outputs": [
    {
     "name": "stdout",
     "output_type": "stream",
     "text": [
      "['learning', 'Natural', 'Language', 'Processing', ',', 'NLP', 'fascinating', 'powerful', '!']\n"
     ]
    }
   ],
   "source": [
    "lemmatizer=WordNetLemmatizer()\n",
    "lemmas=[lemmatizer.lemmatize(word) for word in filtered_tokens]\n",
    "print(lemmas)"
   ]
  },
  {
   "cell_type": "markdown",
   "id": "9b3196f4-2a6f-4505-954e-d9bfafb026c3",
   "metadata": {},
   "source": [
    "Use stemming if speed is more important than accuracy.\n",
    "\n",
    "Use lemmatization if you need meaningful dictionary words."
   ]
  },
  {
   "cell_type": "markdown",
   "id": "7eeccf75-4676-43aa-ad00-04988c3824a5",
   "metadata": {},
   "source": [
    "## 5. Tokenization and Lemmatization with spaCy"
   ]
  },
  {
   "cell_type": "code",
   "execution_count": 15,
   "id": "f7c63f92-bf6c-4063-8706-5cfcbc3e6cf1",
   "metadata": {},
   "outputs": [
    {
     "name": "stdout",
     "output_type": "stream",
     "text": [
      "I am learning Natural Language Processing, NLP is fascinating and powerful!\n",
      "['I', 'am', 'learning', 'Natural', 'Language', 'Processing', ',', 'NLP', 'is', 'fascinating', 'and', 'powerful', '!']\n",
      "['I', 'be', 'learn', 'Natural', 'Language', 'Processing', ',', 'NLP', 'be', 'fascinating', 'and', 'powerful', '!']\n"
     ]
    }
   ],
   "source": [
    "nlp=spacy.load('en_core_web_sm')\n",
    "doc=nlp(text)\n",
    "print(doc)\n",
    "\n",
    "print([token.text for token in doc])\n",
    "print([token.lemma_ for token in doc])"
   ]
  },
  {
   "cell_type": "code",
   "execution_count": null,
   "id": "e28766ef-83dd-4ad9-a262-4ee053e94ac6",
   "metadata": {},
   "outputs": [],
   "source": []
  }
 ],
 "metadata": {
  "kernelspec": {
   "display_name": "Python [conda env:base] *",
   "language": "python",
   "name": "conda-base-py"
  },
  "language_info": {
   "codemirror_mode": {
    "name": "ipython",
    "version": 3
   },
   "file_extension": ".py",
   "mimetype": "text/x-python",
   "name": "python",
   "nbconvert_exporter": "python",
   "pygments_lexer": "ipython3",
   "version": "3.12.3"
  }
 },
 "nbformat": 4,
 "nbformat_minor": 5
}
